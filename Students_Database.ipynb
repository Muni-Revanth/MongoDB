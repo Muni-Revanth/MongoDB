{
 "cells": [
  {
   "cell_type": "markdown",
   "id": "c5d2bb77",
   "metadata": {},
   "source": [
    "# Student_Database(MongoDB)"
   ]
  },
  {
   "cell_type": "code",
   "execution_count": 1,
   "id": "0ffaaf41",
   "metadata": {},
   "outputs": [],
   "source": [
    "import pymongo\n",
    "import pandas as pd"
   ]
  },
  {
   "cell_type": "code",
   "execution_count": 2,
   "id": "52d7d794",
   "metadata": {},
   "outputs": [],
   "source": [
    "client = pymongo.MongoClient(\"mongodb://localhost:27017\")"
   ]
  },
  {
   "cell_type": "code",
   "execution_count": 3,
   "id": "2c146001",
   "metadata": {},
   "outputs": [],
   "source": [
    "st_db = client.Students"
   ]
  },
  {
   "cell_type": "code",
   "execution_count": 4,
   "id": "21b8ae35",
   "metadata": {},
   "outputs": [],
   "source": [
    "st_info = st_db.info"
   ]
  },
  {
   "cell_type": "code",
   "execution_count": 5,
   "id": "b6262bf5",
   "metadata": {},
   "outputs": [],
   "source": [
    "df = pd.read_json(\"R:\\\\students info.json\", lines=True)"
   ]
  },
  {
   "cell_type": "code",
   "execution_count": 6,
   "id": "849e0022",
   "metadata": {},
   "outputs": [],
   "source": [
    "df_d = df.to_dict(\"records\")"
   ]
  },
  {
   "cell_type": "code",
   "execution_count": 7,
   "id": "1a70f5fa",
   "metadata": {},
   "outputs": [
    {
     "data": {
      "text/plain": [
       "<pymongo.results.InsertManyResult at 0x1b2d7519180>"
      ]
     },
     "execution_count": 7,
     "metadata": {},
     "output_type": "execute_result"
    }
   ],
   "source": [
    "st_info.insert_many(df_d)"
   ]
  },
  {
   "cell_type": "markdown",
   "id": "0423a8c0",
   "metadata": {},
   "source": [
    "##  Find the student name who scored maximum scores in all (exam, quiz and homework)?\n"
   ]
  },
  {
   "cell_type": "code",
   "execution_count": 8,
   "id": "a2554b3e",
   "metadata": {},
   "outputs": [
    {
     "name": "stdout",
     "output_type": "stream",
     "text": [
      "{'_id': 13, 'Name': 'Jessika Dagenais', 'Total_Marks': 275.94947751518237}\n"
     ]
    }
   ],
   "source": [
    "agr = st_info.aggregate([{\"$unwind\":\"$scores\"},{\"$group\":{\"_id\":\"$_id\", \"Name\":{\"$first\":\"$name\"},\"Total_Marks\":{\"$sum\":\"$scores.score\"},}},{\"$sort\":{\"Total_Marks\":-1}},{\"$limit\":1}])\n",
    "for o in agr:\n",
    "    print(o)"
   ]
  },
  {
   "cell_type": "markdown",
   "id": "668add88",
   "metadata": {},
   "source": [
    "## Find students who scored below average in the exam and pass mark is 40%? "
   ]
  },
  {
   "cell_type": "code",
   "execution_count": 9,
   "id": "18df8662",
   "metadata": {
    "scrolled": true
   },
   "outputs": [],
   "source": [
    "av = st_info.aggregate([{\"$unwind\":\"$scores\"},{\"$match\":{\"scores.type\":\"exam\",\"scores.score\":{\"$gt\":40, \"$lt\":60}}}])"
   ]
  },
  {
   "cell_type": "code",
   "execution_count": 10,
   "id": "f0364061",
   "metadata": {},
   "outputs": [
    {
     "name": "stdout",
     "output_type": "stream",
     "text": [
      "{'_id': 5, 'name': 'Wilburn Spiess', 'scores': {'score': 44.87186330181261, 'type': 'exam'}}\n",
      "{'_id': 10, 'name': 'Denisha Cast', 'scores': {'score': 45.61876862259409, 'type': 'exam'}}\n",
      "{'_id': 12, 'name': 'Quincy Danaher', 'scores': {'score': 54.29841278520669, 'type': 'exam'}}\n",
      "{'_id': 19, 'name': 'Gisela Levin', 'scores': {'score': 44.51211101958831, 'type': 'exam'}}\n",
      "{'_id': 20, 'name': 'Tressa Schwing', 'scores': {'score': 42.17439799514388, 'type': 'exam'}}\n",
      "{'_id': 21, 'name': 'Rosana Vales', 'scores': {'score': 46.2289476258328, 'type': 'exam'}}\n",
      "{'_id': 23, 'name': 'Tamika Schildgen', 'scores': {'score': 45.65432764125526, 'type': 'exam'}}\n",
      "{'_id': 29, 'name': 'Gwyneth Garling', 'scores': {'score': 48.36644963899371, 'type': 'exam'}}\n",
      "{'_id': 42, 'name': 'Kayce Kenyon', 'scores': {'score': 44.62441703708117, 'type': 'exam'}}\n",
      "{'_id': 45, 'name': 'Terica Brugger', 'scores': {'score': 42.1011312120801, 'type': 'exam'}}\n",
      "{'_id': 57, 'name': 'Chad Rahe', 'scores': {'score': 40.84572027366789, 'type': 'exam'}}\n",
      "{'_id': 61, 'name': 'Grady Zemke', 'scores': {'score': 51.91561300267121, 'type': 'exam'}}\n",
      "{'_id': 62, 'name': 'Vina Matsunaga', 'scores': {'score': 51.38190070034149, 'type': 'exam'}}\n",
      "{'_id': 68, 'name': 'Jenise Mcguffie', 'scores': {'score': 40.15210496060384, 'type': 'exam'}}\n",
      "{'_id': 76, 'name': 'Adrien Renda', 'scores': {'score': 57.24794864351232, 'type': 'exam'}}\n",
      "{'_id': 77, 'name': 'Efrain Claw', 'scores': {'score': 55.41266579085205, 'type': 'exam'}}\n",
      "{'_id': 89, 'name': 'Cassi Heal', 'scores': {'score': 43.04310994985133, 'type': 'exam'}}\n",
      "{'_id': 100, 'name': 'Demarcus Audette', 'scores': {'score': 47.42608580155614, 'type': 'exam'}}\n",
      "{'_id': 102, 'name': 'Mercedez Garduno', 'scores': {'score': 49.52877007656483, 'type': 'exam'}}\n",
      "{'_id': 109, 'name': 'Flora Duell', 'scores': {'score': 40.68238966626067, 'type': 'exam'}}\n",
      "{'_id': 119, 'name': 'Wilburn Spiess', 'scores': {'score': 52.36963021569788, 'type': 'exam'}}\n",
      "{'_id': 126, 'name': 'Quincy Danaher', 'scores': {'score': 40.53136904234401, 'type': 'exam'}}\n",
      "{'_id': 128, 'name': 'Alix Sherrill', 'scores': {'score': 43.67436243299881, 'type': 'exam'}}\n",
      "{'_id': 130, 'name': 'Dodie Staller', 'scores': {'score': 52.16051124848157, 'type': 'exam'}}\n",
      "{'_id': 134, 'name': 'Tressa Schwing', 'scores': {'score': 54.53947018434061, 'type': 'exam'}}\n",
      "{'_id': 142, 'name': 'Laureen Salomone', 'scores': {'score': 42.54322973844196, 'type': 'exam'}}\n",
      "{'_id': 143, 'name': 'Gwyneth Garling', 'scores': {'score': 44.29553481758053, 'type': 'exam'}}\n",
      "{'_id': 152, 'name': 'Richelle Siemers', 'scores': {'score': 52.0158789874646, 'type': 'exam'}}\n",
      "{'_id': 155, 'name': 'Aleida Elsass', 'scores': {'score': 42.89558347656537, 'type': 'exam'}}\n",
      "{'_id': 156, 'name': 'Kayce Kenyon', 'scores': {'score': 54.00824880446614, 'type': 'exam'}}\n",
      "{'_id': 164, 'name': 'Alica Pasley', 'scores': {'score': 41.3852820348269, 'type': 'exam'}}\n",
      "{'_id': 167, 'name': 'Malisa Jeanes', 'scores': {'score': 40.68676040665008, 'type': 'exam'}}\n",
      "{'_id': 169, 'name': 'Tresa Sinha', 'scores': {'score': 52.22632020277269, 'type': 'exam'}}\n",
      "{'_id': 173, 'name': 'Vinnie Auerbach', 'scores': {'score': 57.26312067710243, 'type': 'exam'}}\n",
      "{'_id': 184, 'name': 'Harriett Velarde', 'scores': {'score': 41.47988283148075, 'type': 'exam'}}\n",
      "{'_id': 185, 'name': 'Kam Senters', 'scores': {'score': 49.8822537074033, 'type': 'exam'}}\n",
      "{'_id': 193, 'name': 'Mariela Sherer', 'scores': {'score': 47.67196715489599, 'type': 'exam'}}\n",
      "{'_id': 195, 'name': 'Linnie Weigel', 'scores': {'score': 52.44578368517977, 'type': 'exam'}}\n",
      "{'_id': 196, 'name': 'Santiago Dollins', 'scores': {'score': 52.04052571137036, 'type': 'exam'}}\n"
     ]
    }
   ],
   "source": [
    "for f in av:\n",
    "    print(f)"
   ]
  },
  {
   "cell_type": "markdown",
   "id": "07935aa4",
   "metadata": {},
   "source": [
    "## Find students who scored below pass mark and assigned them as fail, and above pass mark as pass in all the categories. "
   ]
  },
  {
   "cell_type": "code",
   "execution_count": 11,
   "id": "ef2d2283",
   "metadata": {},
   "outputs": [
    {
     "name": "stdout",
     "output_type": "stream",
     "text": [
      "{'_id': 0, 'name': 'aimee Zank', 'Status': 'fail'}\n",
      "{'_id': 1, 'name': 'Aurelia Menendez', 'Status': 'pass'}\n",
      "{'_id': 2, 'name': 'Corliss Zuk', 'Status': 'fail'}\n",
      "{'_id': 3, 'name': 'Bao Ziglar', 'Status': 'fail'}\n",
      "{'_id': 4, 'name': 'Zachary Langlais', 'Status': 'fail'}\n",
      "{'_id': 5, 'name': 'Wilburn Spiess', 'Status': 'fail'}\n",
      "{'_id': 6, 'name': 'Jenette Flanders', 'Status': 'fail'}\n",
      "{'_id': 7, 'name': 'Salena Olmos', 'Status': 'pass'}\n",
      "{'_id': 8, 'name': 'Daphne Zheng', 'Status': 'fail'}\n",
      "{'_id': 9, 'name': 'Sanda Ryba', 'Status': 'fail'}\n",
      "{'_id': 10, 'name': 'Denisha Cast', 'Status': 'pass'}\n",
      "{'_id': 11, 'name': 'Marcus Blohm', 'Status': 'pass'}\n",
      "{'_id': 12, 'name': 'Quincy Danaher', 'Status': 'pass'}\n",
      "{'_id': 13, 'name': 'Jessika Dagenais', 'Status': 'pass'}\n",
      "{'_id': 14, 'name': 'Alix Sherrill', 'Status': 'fail'}\n",
      "{'_id': 15, 'name': 'Tambra Mercure', 'Status': 'fail'}\n",
      "{'_id': 16, 'name': 'Dodie Staller', 'Status': 'fail'}\n",
      "{'_id': 17, 'name': 'Fletcher Mcconnell', 'Status': 'fail'}\n",
      "{'_id': 18, 'name': 'Verdell Sowinski', 'Status': 'pass'}\n",
      "{'_id': 19, 'name': 'Gisela Levin', 'Status': 'fail'}\n",
      "{'_id': 20, 'name': 'Tressa Schwing', 'Status': 'pass'}\n",
      "{'_id': 21, 'name': 'Rosana Vales', 'Status': 'fail'}\n",
      "{'_id': 22, 'name': 'Margart Vitello', 'Status': 'fail'}\n",
      "{'_id': 23, 'name': 'Tamika Schildgen', 'Status': 'pass'}\n",
      "{'_id': 24, 'name': 'Jesusa Rickenbacker', 'Status': 'fail'}\n",
      "{'_id': 25, 'name': 'Rudolph Domingo', 'Status': 'fail'}\n",
      "{'_id': 26, 'name': 'Jonie Raby', 'Status': 'fail'}\n",
      "{'_id': 27, 'name': 'Edgar Sarkis', 'Status': 'fail'}\n",
      "{'_id': 28, 'name': 'Laureen Salomone', 'Status': 'fail'}\n",
      "{'_id': 29, 'name': 'Gwyneth Garling', 'Status': 'fail'}\n",
      "{'_id': 30, 'name': 'Kaila Deibler', 'Status': 'fail'}\n",
      "{'_id': 31, 'name': 'Tandra Meadows', 'Status': 'fail'}\n",
      "{'_id': 32, 'name': 'Gwen Honig', 'Status': 'pass'}\n",
      "{'_id': 33, 'name': 'Sadie Jernigan', 'Status': 'fail'}\n",
      "{'_id': 34, 'name': 'Carli Belvins', 'Status': 'fail'}\n",
      "{'_id': 35, 'name': 'Synthia Labelle', 'Status': 'fail'}\n",
      "{'_id': 36, 'name': 'Eugene Magdaleno', 'Status': 'pass'}\n",
      "{'_id': 37, 'name': 'Meagan Oakes', 'Status': 'fail'}\n",
      "{'_id': 38, 'name': 'Richelle Siemers', 'Status': 'fail'}\n",
      "{'_id': 39, 'name': 'Mariette Batdorf', 'Status': 'fail'}\n",
      "{'_id': 40, 'name': 'Rachell Aman', 'Status': 'fail'}\n",
      "{'_id': 41, 'name': 'Aleida Elsass', 'Status': 'fail'}\n",
      "{'_id': 42, 'name': 'Kayce Kenyon', 'Status': 'fail'}\n",
      "{'_id': 43, 'name': 'Ernestine Macfarland', 'Status': 'fail'}\n",
      "{'_id': 44, 'name': 'Houston Valenti', 'Status': 'fail'}\n",
      "{'_id': 45, 'name': 'Terica Brugger', 'Status': 'fail'}\n",
      "{'_id': 46, 'name': 'Lady Lefevers', 'Status': 'fail'}\n",
      "{'_id': 47, 'name': 'Kurtis Jiles', 'Status': 'fail'}\n",
      "{'_id': 48, 'name': 'Barbera Lippman', 'Status': 'fail'}\n",
      "{'_id': 49, 'name': 'Dinah Sauve', 'Status': 'fail'}\n",
      "{'_id': 50, 'name': 'Alica Pasley', 'Status': 'fail'}\n",
      "{'_id': 51, 'name': 'Elizabet Kleine', 'Status': 'fail'}\n",
      "{'_id': 52, 'name': 'Tawana Oberg', 'Status': 'pass'}\n",
      "{'_id': 53, 'name': 'Malisa Jeanes', 'Status': 'fail'}\n",
      "{'_id': 54, 'name': 'Joel Rueter', 'Status': 'pass'}\n",
      "{'_id': 55, 'name': 'Tresa Sinha', 'Status': 'pass'}\n",
      "{'_id': 56, 'name': 'Danika Loeffler', 'Status': 'fail'}\n",
      "{'_id': 57, 'name': 'Chad Rahe', 'Status': 'fail'}\n",
      "{'_id': 58, 'name': 'Joaquina Arbuckle', 'Status': 'fail'}\n",
      "{'_id': 59, 'name': 'Vinnie Auerbach', 'Status': 'fail'}\n",
      "{'_id': 60, 'name': 'Dusti Lemmond', 'Status': 'fail'}\n",
      "{'_id': 61, 'name': 'Grady Zemke', 'Status': 'pass'}\n",
      "{'_id': 62, 'name': 'Vina Matsunaga', 'Status': 'fail'}\n",
      "{'_id': 63, 'name': 'Rubie Winton', 'Status': 'fail'}\n",
      "{'_id': 64, 'name': 'Whitley Fears', 'Status': 'pass'}\n",
      "{'_id': 65, 'name': 'Gena Riccio', 'Status': 'pass'}\n",
      "{'_id': 66, 'name': 'Kim Xu', 'Status': 'fail'}\n",
      "{'_id': 67, 'name': 'Merissa Mann', 'Status': 'pass'}\n",
      "{'_id': 68, 'name': 'Jenise Mcguffie', 'Status': 'pass'}\n",
      "{'_id': 69, 'name': 'Cody Strouth', 'Status': 'fail'}\n",
      "{'_id': 70, 'name': 'Harriett Velarde', 'Status': 'fail'}\n",
      "{'_id': 71, 'name': 'Kam Senters', 'Status': 'fail'}\n",
      "{'_id': 72, 'name': 'Leonida Lafond', 'Status': 'fail'}\n",
      "{'_id': 73, 'name': 'Devorah Smartt', 'Status': 'fail'}\n",
      "{'_id': 74, 'name': 'Leola Lundin', 'Status': 'fail'}\n",
      "{'_id': 75, 'name': 'Tonia Surace', 'Status': 'pass'}\n",
      "{'_id': 76, 'name': 'Adrien Renda', 'Status': 'fail'}\n",
      "{'_id': 77, 'name': 'Efrain Claw', 'Status': 'fail'}\n",
      "{'_id': 78, 'name': 'Len Treiber', 'Status': 'fail'}\n",
      "{'_id': 79, 'name': 'Mariela Sherer', 'Status': 'pass'}\n",
      "{'_id': 80, 'name': 'Echo Pippins', 'Status': 'fail'}\n",
      "{'_id': 81, 'name': 'Linnie Weigel', 'Status': 'fail'}\n",
      "{'_id': 82, 'name': 'Santiago Dollins', 'Status': 'fail'}\n",
      "{'_id': 83, 'name': 'Tonisha Games', 'Status': 'fail'}\n",
      "{'_id': 84, 'name': 'Timothy Harrod', 'Status': 'pass'}\n",
      "{'_id': 85, 'name': 'Rae Kohout', 'Status': 'pass'}\n",
      "{'_id': 86, 'name': 'Brain Lachapelle', 'Status': 'fail'}\n",
      "{'_id': 87, 'name': 'Toshiko Sabella', 'Status': 'fail'}\n",
      "{'_id': 88, 'name': 'Keesha Papadopoulos', 'Status': 'fail'}\n",
      "{'_id': 89, 'name': 'Cassi Heal', 'Status': 'fail'}\n",
      "{'_id': 90, 'name': 'Osvaldo Hirt', 'Status': 'pass'}\n",
      "{'_id': 91, 'name': 'Ty Barbieri', 'Status': 'fail'}\n",
      "{'_id': 92, 'name': 'Ta Sikorski', 'Status': 'fail'}\n",
      "{'_id': 93, 'name': 'Lucinda Vanderburg', 'Status': 'fail'}\n",
      "{'_id': 94, 'name': 'Darby Wass', 'Status': 'fail'}\n",
      "{'_id': 95, 'name': 'Omar Bowdoin', 'Status': 'fail'}\n",
      "{'_id': 96, 'name': 'Milan Mcgavock', 'Status': 'fail'}\n",
      "{'_id': 97, 'name': 'Maren Scheider', 'Status': 'pass'}\n",
      "{'_id': 98, 'name': 'Carli Ector', 'Status': 'pass'}\n",
      "{'_id': 99, 'name': 'Jaclyn Morado', 'Status': 'pass'}\n",
      "{'_id': 100, 'name': 'Demarcus Audette', 'Status': 'fail'}\n",
      "{'_id': 101, 'name': 'Tania Hulett', 'Status': 'fail'}\n",
      "{'_id': 102, 'name': 'Mercedez Garduno', 'Status': 'pass'}\n",
      "{'_id': 103, 'name': 'Fleta Duplantis', 'Status': 'fail'}\n",
      "{'_id': 104, 'name': 'Brittny Warwick', 'Status': 'pass'}\n",
      "{'_id': 105, 'name': 'Shin Allbright', 'Status': 'pass'}\n",
      "{'_id': 106, 'name': 'Karry Petrarca', 'Status': 'fail'}\n",
      "{'_id': 107, 'name': 'Beckie Millington', 'Status': 'fail'}\n",
      "{'_id': 108, 'name': 'Mikaela Meidinger', 'Status': 'pass'}\n",
      "{'_id': 109, 'name': 'Flora Duell', 'Status': 'pass'}\n",
      "{'_id': 110, 'name': 'Nobuko Linzey', 'Status': 'pass'}\n",
      "{'_id': 111, 'name': 'Gennie Ratner', 'Status': 'pass'}\n",
      "{'_id': 112, 'name': 'Myrtle Wolfinger', 'Status': 'fail'}\n",
      "{'_id': 113, 'name': '', 'Status': 'fail'}\n",
      "{'_id': 114, 'name': 'aimee Zank', 'Status': 'fail'}\n",
      "{'_id': 115, 'name': 'Aurelia Menendez', 'Status': 'fail'}\n",
      "{'_id': 116, 'name': 'Corliss Zuk', 'Status': 'pass'}\n",
      "{'_id': 117, 'name': 'Bao Ziglar', 'Status': 'fail'}\n",
      "{'_id': 118, 'name': 'Zachary Langlais', 'Status': 'pass'}\n",
      "{'_id': 119, 'name': 'Wilburn Spiess', 'Status': 'pass'}\n",
      "{'_id': 120, 'name': 'Jenette Flanders', 'Status': 'fail'}\n",
      "{'_id': 121, 'name': 'Salena Olmos', 'Status': 'fail'}\n",
      "{'_id': 122, 'name': 'Daphne Zheng', 'Status': 'fail'}\n",
      "{'_id': 123, 'name': 'Sanda Ryba', 'Status': 'fail'}\n",
      "{'_id': 124, 'name': 'Denisha Cast', 'Status': 'fail'}\n",
      "{'_id': 125, 'name': 'Marcus Blohm', 'Status': 'fail'}\n",
      "{'_id': 126, 'name': 'Quincy Danaher', 'Status': 'pass'}\n",
      "{'_id': 127, 'name': 'Jessika Dagenais', 'Status': 'pass'}\n",
      "{'_id': 128, 'name': 'Alix Sherrill', 'Status': 'fail'}\n",
      "{'_id': 129, 'name': 'Tambra Mercure', 'Status': 'pass'}\n",
      "{'_id': 130, 'name': 'Dodie Staller', 'Status': 'pass'}\n",
      "{'_id': 131, 'name': 'Fletcher Mcconnell', 'Status': 'fail'}\n",
      "{'_id': 132, 'name': 'Verdell Sowinski', 'Status': 'fail'}\n",
      "{'_id': 133, 'name': 'Gisela Levin', 'Status': 'fail'}\n",
      "{'_id': 134, 'name': 'Tressa Schwing', 'Status': 'fail'}\n",
      "{'_id': 135, 'name': 'Rosana Vales', 'Status': 'fail'}\n",
      "{'_id': 136, 'name': 'Margart Vitello', 'Status': 'fail'}\n",
      "{'_id': 137, 'name': 'Tamika Schildgen', 'Status': 'fail'}\n",
      "{'_id': 138, 'name': 'Jesusa Rickenbacker', 'Status': 'fail'}\n",
      "{'_id': 139, 'name': 'Rudolph Domingo', 'Status': 'fail'}\n",
      "{'_id': 140, 'name': 'Jonie Raby', 'Status': 'fail'}\n",
      "{'_id': 141, 'name': 'Edgar Sarkis', 'Status': 'pass'}\n",
      "{'_id': 142, 'name': 'Laureen Salomone', 'Status': 'fail'}\n",
      "{'_id': 143, 'name': 'Gwyneth Garling', 'Status': 'fail'}\n",
      "{'_id': 144, 'name': 'Kaila Deibler', 'Status': 'fail'}\n",
      "{'_id': 145, 'name': 'Tandra Meadows', 'Status': 'fail'}\n",
      "{'_id': 146, 'name': 'Gwen Honig', 'Status': 'fail'}\n",
      "{'_id': 147, 'name': 'Sadie Jernigan', 'Status': 'fail'}\n",
      "{'_id': 148, 'name': 'Carli Belvins', 'Status': 'fail'}\n",
      "{'_id': 149, 'name': 'Synthia Labelle', 'Status': 'fail'}\n",
      "{'_id': 150, 'name': 'Eugene Magdaleno', 'Status': 'fail'}\n",
      "{'_id': 151, 'name': 'Meagan Oakes', 'Status': 'fail'}\n",
      "{'_id': 152, 'name': 'Richelle Siemers', 'Status': 'fail'}\n",
      "{'_id': 153, 'name': 'Mariette Batdorf', 'Status': 'fail'}\n",
      "{'_id': 154, 'name': 'Rachell Aman', 'Status': 'fail'}\n",
      "{'_id': 155, 'name': 'Aleida Elsass', 'Status': 'fail'}\n",
      "{'_id': 156, 'name': 'Kayce Kenyon', 'Status': 'fail'}\n",
      "{'_id': 157, 'name': 'Ernestine Macfarland', 'Status': 'fail'}\n",
      "{'_id': 158, 'name': 'Houston Valenti', 'Status': 'fail'}\n",
      "{'_id': 159, 'name': 'Terica Brugger', 'Status': 'pass'}\n",
      "{'_id': 160, 'name': 'Lady Lefevers', 'Status': 'fail'}\n",
      "{'_id': 161, 'name': 'Kurtis Jiles', 'Status': 'fail'}\n",
      "{'_id': 162, 'name': 'Barbera Lippman', 'Status': 'fail'}\n",
      "{'_id': 163, 'name': 'Dinah Sauve', 'Status': 'fail'}\n",
      "{'_id': 164, 'name': 'Alica Pasley', 'Status': 'fail'}\n",
      "{'_id': 165, 'name': 'Elizabet Kleine', 'Status': 'fail'}\n",
      "{'_id': 166, 'name': 'Tawana Oberg', 'Status': 'pass'}\n",
      "{'_id': 167, 'name': 'Malisa Jeanes', 'Status': 'pass'}\n",
      "{'_id': 168, 'name': 'Joel Rueter', 'Status': 'fail'}\n",
      "{'_id': 169, 'name': 'Tresa Sinha', 'Status': 'pass'}\n",
      "{'_id': 170, 'name': 'Danika Loeffler', 'Status': 'fail'}\n",
      "{'_id': 171, 'name': 'Chad Rahe', 'Status': 'fail'}\n",
      "{'_id': 172, 'name': 'Joaquina Arbuckle', 'Status': 'fail'}\n",
      "{'_id': 173, 'name': 'Vinnie Auerbach', 'Status': 'fail'}\n",
      "{'_id': 174, 'name': 'Dusti Lemmond', 'Status': 'pass'}\n",
      "{'_id': 175, 'name': 'Grady Zemke', 'Status': 'fail'}\n",
      "{'_id': 176, 'name': 'Vina Matsunaga', 'Status': 'fail'}\n",
      "{'_id': 177, 'name': 'Rubie Winton', 'Status': 'fail'}\n",
      "{'_id': 178, 'name': 'Whitley Fears', 'Status': 'fail'}\n",
      "{'_id': 179, 'name': 'Gena Riccio', 'Status': 'fail'}\n",
      "{'_id': 180, 'name': 'Kim Xu', 'Status': 'fail'}\n",
      "{'_id': 181, 'name': 'Merissa Mann', 'Status': 'fail'}\n",
      "{'_id': 182, 'name': 'Jenise Mcguffie', 'Status': 'pass'}\n",
      "{'_id': 183, 'name': 'Cody Strouth', 'Status': 'fail'}\n",
      "{'_id': 184, 'name': 'Harriett Velarde', 'Status': 'pass'}\n",
      "{'_id': 185, 'name': 'Kam Senters', 'Status': 'pass'}\n",
      "{'_id': 186, 'name': 'Leonida Lafond', 'Status': 'fail'}\n",
      "{'_id': 187, 'name': 'Devorah Smartt', 'Status': 'fail'}\n",
      "{'_id': 188, 'name': 'Leola Lundin', 'Status': 'pass'}\n",
      "{'_id': 189, 'name': 'Tonia Surace', 'Status': 'fail'}\n",
      "{'_id': 190, 'name': 'Adrien Renda', 'Status': 'pass'}\n",
      "{'_id': 191, 'name': 'Efrain Claw', 'Status': 'pass'}\n",
      "{'_id': 192, 'name': 'Len Treiber', 'Status': 'fail'}\n",
      "{'_id': 193, 'name': 'Mariela Sherer', 'Status': 'pass'}\n",
      "{'_id': 194, 'name': 'Echo Pippins', 'Status': 'fail'}\n",
      "{'_id': 195, 'name': 'Linnie Weigel', 'Status': 'fail'}\n",
      "{'_id': 196, 'name': 'Santiago Dollins', 'Status': 'fail'}\n",
      "{'_id': 197, 'name': 'Tonisha Games', 'Status': 'fail'}\n",
      "{'_id': 198, 'name': 'Timothy Harrod', 'Status': 'fail'}\n",
      "{'_id': 199, 'name': 'Rae Kohout', 'Status': 'fail'}\n"
     ]
    }
   ],
   "source": [
    "x = st_info.aggregate([{\"$set\":{\"scores\":{\"$arrayToObject\":[{\"$map\":{\"input\": \"$scores\",\"as\": \"r\",\"in\": {\"k\": \"$$r.type\", \"v\": \"$$r.score\"}}}]}}},{\"$project\":{\"_id\":1,\"name\":1,\"Status\":{\"$cond\":{\"if\": {\"$and\" : [{\"$gte\": [\"$scores.exam\", 40]}, {\"$gte\": [\"$scores.quiz\", 40]}, {\"$gte\": [ \"$scores.homework\", 40]}]},\"then\" :\"pass\",\"else\":\"fail\"}}}}])\n",
    "for i in x:\n",
    "    print(i)"
   ]
  },
  {
   "cell_type": "markdown",
   "id": "90d51ef4",
   "metadata": {},
   "source": [
    "## Find the total and average of the exam, quiz and homework and store them in a separate collection. "
   ]
  },
  {
   "cell_type": "code",
   "execution_count": 12,
   "id": "2efc9f8c",
   "metadata": {},
   "outputs": [],
   "source": [
    "Avg_score = st_db.Avg\n",
    "agrr = st_info.aggregate([{\"$unwind\":\"$scores\"},{\"$group\":{\"_id\":\"$_id\", \"Name\":{\"$first\":\"$name\"},\"Total_Marks\":{\"$sum\":\"$scores.score\"},\"Average\":{\"$avg\":\"$scores.score\"}}},{\"$sort\":{\"Total_Marks\":1}}])\n",
    "for o in agrr:\n",
    "    st_db.Avg.insert_one(o)"
   ]
  },
  {
   "cell_type": "markdown",
   "id": "e82d48c6",
   "metadata": {},
   "source": [
    "## Create a new collection which consists of students who scored below average and above 40% in all the categories."
   ]
  },
  {
   "cell_type": "code",
   "execution_count": 13,
   "id": "76179b40",
   "metadata": {},
   "outputs": [],
   "source": [
    "below_avg = st_db.Below_Avg\n",
    "\n",
    "avg = st_info.aggregate([{\"$match\":{\"$expr\":{\"$and\":[{\"$gt\": [{\"$min\": \"$scores.score\"}, 40]},{\"$lt\": [{\"$max\": \"$scores.score\"}, 60]}]}}}])\n",
    "\n",
    "for i in avg:\n",
    "    below_avg.insert_one(i)"
   ]
  },
  {
   "cell_type": "markdown",
   "id": "369d72b2",
   "metadata": {},
   "source": [
    "## Create a new collection which consists of students who scored below average and above 40% in all the categories."
   ]
  },
  {
   "cell_type": "code",
   "execution_count": 14,
   "id": "1d2e885f",
   "metadata": {},
   "outputs": [],
   "source": [
    "fail_list = st_db.Fail_List\n",
    "agg = st_info.aggregate([{\"$match\":{\"$expr\":{\"$lt\": [{\"$max\": \"$scores.score\"}, 40]}}}])\n",
    "\n",
    "for i in agg:\n",
    "    fail_list.insert_one(i)"
   ]
  },
  {
   "cell_type": "markdown",
   "id": "6288de21",
   "metadata": {},
   "source": [
    "## Create a new collection which consists of students who scored above pass mark in all the categories. "
   ]
  },
  {
   "cell_type": "code",
   "execution_count": 15,
   "id": "09d028c1",
   "metadata": {},
   "outputs": [],
   "source": [
    "pass_list = st_db.Pass_List\n",
    "agg = st_info.aggregate([{\"$match\":{\"$expr\":{\"$gt\": [{\"$min\": \"$scores.score\"}, 40]}}}])\n",
    "\n",
    "for i in agg:\n",
    "    pass_list.insert_one(i)"
   ]
  }
 ],
 "metadata": {
  "kernelspec": {
   "display_name": "pandas_venv",
   "language": "python",
   "name": "pandas_venv"
  },
  "language_info": {
   "codemirror_mode": {
    "name": "ipython",
    "version": 3
   },
   "file_extension": ".py",
   "mimetype": "text/x-python",
   "name": "python",
   "nbconvert_exporter": "python",
   "pygments_lexer": "ipython3",
   "version": "3.10.7"
  }
 },
 "nbformat": 4,
 "nbformat_minor": 5
}
